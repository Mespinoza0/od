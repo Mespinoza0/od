{
 "cells": [
  {
   "cell_type": "code",
   "execution_count": 1,
   "id": "16442594-38d4-4c9c-b9fd-0f3fcfa3605b",
   "metadata": {},
   "outputs": [],
   "source": [
    "import cv2\n",
    "import numpy as np \n",
    "import os \n",
    "import yaml \n",
    "from yaml.loader import SafeLoader\n"
   ]
  },
  {
   "cell_type": "code",
   "execution_count": 2,
   "id": "61a84e76-8077-46ab-9241-328d53e55da3",
   "metadata": {},
   "outputs": [],
   "source": [
    "import cv2\n",
    "import numpy as np \n",
    "import os \n",
    "import yaml \n",
    "from yaml.loader import SafeLoader\n"
   ]
  },
  {
   "cell_type": "code",
   "execution_count": 3,
   "id": "766f1838-d34e-41c1-a73c-6ecb656a3786",
   "metadata": {},
   "outputs": [],
   "source": [
    "yolo = cv2.dnn.readNetFromONNX('./Model_3/weights/best.onnx')\n",
    "yolo.setPreferableBackend(cv2.dnn.DNN_BACKEND_OPENCV)\n",
    "yolo.setPreferableTarget(cv2.dnn.DNN_TARGET_CPU)\n"
   ]
  },
  {
   "cell_type": "code",
   "execution_count": 5,
   "id": "ce0510f3-acde-41ab-932f-7da7b1c97b0d",
   "metadata": {},
   "outputs": [
    {
     "name": "stdout",
     "output_type": "stream",
     "text": [
      "(1, 25200, 11)\n"
     ]
    }
   ],
   "source": [
    "##load image\n",
    "img = cv2.imread('./1.jpg')\n",
    "image = img.copy()\n",
    "row, col, d = image.shape\n",
    "\n",
    "max_rc = max(row, col)\n",
    "input_image = np.zeros((max_rc, max_rc, 3), dtype=np.uint8)\n",
    "input_image[0:row,0:col]= image\n",
    "\n",
    "INPUT_WH_YOLO = 640 \n",
    "blob = cv2.dnn.blobFromImage(input_image, 1 / 255, (INPUT_WH_YOLO, INPUT_WH_YOLO),swapRB=True, crop= False)\n",
    "yolo.setInput(blob)\n",
    "preds = yolo.forward()\n",
    "print(preds.shape)  \n"
   ]
  },
  {
   "cell_type": "code",
   "execution_count": 6,
   "id": "208d560e-61ea-4bab-99ce-c47acd86b397",
   "metadata": {},
   "outputs": [],
   "source": [
    "detections = preds[0]\n",
    "boxes = []\n",
    "confidences= []\n",
    "classes=[]\n",
    "\n",
    "image_w, image_h = input_image.shape[:2]\n",
    "x_factor= image_w/INPUT_WH_YOLO\n",
    "y_factor= image_h/INPUT_WH_YOLO\n",
    "\n",
    "for i in range (len(detections)):\n",
    "    row = detections[i]\n",
    "    confidence = row[4]\n",
    "    if confidence > 0.4:\n",
    "        class_score = row[5:].max()\n",
    "        class_id= row[5:].argmax()\n",
    "\n",
    "        if class_score >0.25:\n",
    "            cx,cy,w,h = row[:4]\n",
    "            left = int (( cx -0.5*w)*x_factor)\n",
    "            top = int((cy-0.5*h)*y_factor)\n",
    "            width = int(w*x_factor)\n",
    "            height = int(h*y_factor)\n",
    "\n",
    "\n",
    "            box = np.array([left,top,width,height])\n",
    "\n",
    "            confidences.append(confidence)\n",
    "            boxes.append(box)\n",
    "            classes.append(class_id)\n",
    "\n",
    "boxes_np= np.array(boxes).tolist()\n",
    "confidences_np=np.array(confidences).tolist()\n",
    "\n",
    "index =cv2.dnn.NMSBoxes(boxes_np,confidences_np,0.25,0.45).flatten()\n"
   ]
  },
  {
   "cell_type": "code",
   "execution_count": null,
   "id": "d28b1d56-9f17-44c3-8fef-8a3ae7017df6",
   "metadata": {},
   "outputs": [],
   "source": [
    "labels=['pill bottle',\n",
    "        'hand',\n",
    "        'glasses',\n",
    "        'person',\n",
    "        'phone',\n",
    "        'mug']\n",
    "for ind in index:\n",
    "    x,y,w,h= boxes_np[ind]\n",
    "    bb_conf=int(confidences_np[ind]*100)\n",
    "    classes_id =classes[ind]\n",
    "    classes_name=labels[classes_id]\n",
    "\n",
    "    text = f'{classes_name}:{bb_conf}%'\n",
    "\n",
    "    cv2.rectangle(image,(x,y),(x+w,y+h),(0,255,0),2)\n",
    "    cv2.rectangle(image,(x,y-30),(x+w,y),(255,255,255),-1)\n",
    "    cv2.putText(image,text,(x,y-10),cv2.FONT_HERSHEY_PLAIN,0.7,(0,0,0),1)\n",
    "\n",
    "\n",
    "    \n",
    "cv2.imshow('original',img)\n",
    "cv2.imshow('yolo_pred',image)\n",
    "cv2.waitKey(0)\n",
    "cv2.destroyAllWindows()"
   ]
  },
  {
   "cell_type": "code",
   "execution_count": null,
   "id": "5b95a6d5-6aef-4789-b355-36a9d1a87a07",
   "metadata": {},
   "outputs": [],
   "source": []
  }
 ],
 "metadata": {
  "kernelspec": {
   "display_name": "Python 3 (ipykernel)",
   "language": "python",
   "name": "python3"
  },
  "language_info": {
   "codemirror_mode": {
    "name": "ipython",
    "version": 3
   },
   "file_extension": ".py",
   "mimetype": "text/x-python",
   "name": "python",
   "nbconvert_exporter": "python",
   "pygments_lexer": "ipython3",
   "version": "3.13.2"
  }
 },
 "nbformat": 4,
 "nbformat_minor": 5
}
